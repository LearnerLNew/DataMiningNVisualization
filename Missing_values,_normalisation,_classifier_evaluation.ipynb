{
  "nbformat": 4,
  "nbformat_minor": 0,
  "metadata": {
    "kernelspec": {
      "display_name": "Python 3",
      "language": "python",
      "name": "python3"
    },
    "language_info": {
      "codemirror_mode": {
        "name": "ipython",
        "version": 3
      },
      "file_extension": ".py",
      "mimetype": "text/x-python",
      "name": "python",
      "nbconvert_exporter": "python",
      "pygments_lexer": "ipython3",
      "version": "3.9.0"
    },
    "colab": {
      "name": "Missing values, normalisation, classifier evaluation.ipynb",
      "provenance": [],
      "include_colab_link": true
    }
  },
  "cells": [
    {
      "cell_type": "markdown",
      "metadata": {
        "id": "view-in-github",
        "colab_type": "text"
      },
      "source": [
        "<a href=\"https://colab.research.google.com/github/LearnerLNew/DataMiningNVisualization/blob/main/Missing_values%2C_normalisation%2C_classifier_evaluation.ipynb\" target=\"_parent\"><img src=\"https://colab.research.google.com/assets/colab-badge.svg\" alt=\"Open In Colab\"/></a>"
      ]
    },
    {
      "cell_type": "markdown",
      "metadata": {
        "id": "pLDpfI3OWom_"
      },
      "source": [
        "# Missing values, normalisation, classifier evaluation"
      ]
    },
    {
      "cell_type": "code",
      "metadata": {
        "id": "98yz2tcnWonD"
      },
      "source": [
        "import numpy as np"
      ],
      "execution_count": 1,
      "outputs": []
    },
    {
      "cell_type": "markdown",
      "metadata": {
        "id": "cmJYIkc1WonD"
      },
      "source": [
        "## Exercise 1\n",
        "\n",
        "Given dataset (as an Numpy array) that contains  records about 50 persons: (Gender, Height, Weight, Index).\n",
        "- Gender = 0 (Male); 1 (Female) (binary)\n",
        "- Height = person's height in cm (integer)\n",
        "- Weight = person's weight in kg (integer)\n",
        "- Index = 0 - Extremely Weak; 1 - Weak; 2 - Normal; 3 - Overweight; 4 - Obesity; 5 - Extreme Obesity (integer from 0 to 5)"
      ]
    },
    {
      "cell_type": "code",
      "metadata": {
        "id": "pmPGci4TWonE"
      },
      "source": [
        "dataset = np.array([[0, 174, -1, 4], [0, 189, 87, 2], [1, 185, 110, 4], [1, 195, 104, 3], [0, 149, 61, 3], [0, 1893, 104, 3], [0, 147, 92, 5], [0, 154, 111, 5], [0, 174, 2, 3], [10, 169, 103, 4], [0, 195, 81, 2], [-1, 159, 80, 4], [1, 192, 101, 3], [0, 155, 51, 2], [0, 191, 379, 2], [1, 4, 107, 5], [1, 157, 110, 5], [0, 140, 129, 5], [0, 144, 145, 5], [0, 172, 139, -5], [0, 157, 110, 5], [1, 153, 149, 5], [1, 169, 97, 4], [0, 185, 139, 5], [1, 172, 67, 2], [1, 151, 64, 3], [0, 190, 95, 3], [0, 187, 62, 1], [1, 163, 159, 5], [0, 179, 152, 5], [0, 153, 121, 5], [0, 178, 52, 1], [1, 195, 65, 1], [1, 160, 131, 5], [1, 157, 153, 5], [1, 189, 132, 4], [1, 197, 114, 3], [0, 144, 80, 4], [1, 171, 152, 5], [1, 185, 81, 2], [1, 175, 120, 4], [1, 149, 108, 5], [0, 157, 56, 2], [0, 161, 118, 5], [1, 182, 126, 4], [0, 185, 76, 2], [1, 188, 122, 4], [0, 181, 111, 4], [0, 161, 72, 3], [0, 140, 152, 5]])"
      ],
      "execution_count": 2,
      "outputs": []
    },
    {
      "cell_type": "markdown",
      "metadata": {
        "id": "U1jvxnezWonE"
      },
      "source": [
        "1. Output the records with noisy data, i.e., records where values of some features are most likely incorrect (you can assume that Height should be in the range $[50,220]$, and Weight in the range $[50, 160]$)"
      ]
    },
    {
      "cell_type": "code",
      "metadata": {
        "id": "Md8nZ-xpWonE",
        "outputId": "ea234314-b8b8-422c-c619-6a4d52369672",
        "colab": {
          "base_uri": "https://localhost:8080/"
        }
      },
      "source": [
        "np.shape(dataset)\n",
        "np.reshape(dataset, np.shape(dataset))\n",
        "# print(dataset)\n",
        "# x[(x != y[:,None,:]).all(axis=(0,-1))]\n",
        "noisy_data = dataset[(dataset[:,0]<0) | (dataset[:,0]>1) | (dataset[:,1]<50) | (dataset[:,1]>220) | (dataset[:,2]<50) | (dataset[:,2]>160)| (dataset[:,3]<0) | (dataset[:,3]>5)]\n",
        "print(noisy_data)"
      ],
      "execution_count": 20,
      "outputs": [
        {
          "output_type": "stream",
          "name": "stdout",
          "text": [
            "[[   0  174   -1    4]\n",
            " [   0 1893  104    3]\n",
            " [   0  174    2    3]\n",
            " [  10  169  103    4]\n",
            " [  -1  159   80    4]\n",
            " [   0  191  379    2]\n",
            " [   1    4  107    5]\n",
            " [   0  172  139   -5]]\n"
          ]
        }
      ]
    },
    {
      "cell_type": "markdown",
      "metadata": {
        "id": "J46aFmBKWonE"
      },
      "source": [
        "2. Create a new dataset where noisy records (those that were identified as noisy in the previous step) are removed"
      ]
    },
    {
      "cell_type": "code",
      "metadata": {
        "id": "dwwQUiWhWonF",
        "outputId": "bb260657-b2a2-4c3b-bdbc-d4fca2ca0e2a",
        "colab": {
          "base_uri": "https://localhost:8080/"
        }
      },
      "source": [
        "selected_rows = dataset[(dataset[:,0]>=0) & (dataset[:,0]<=1)& (dataset[:,1]>=50) & (dataset[:,1]<220) & (dataset[:,2]>=50) & (dataset[:,2]<160) & (dataset[:,3]>=0) & (dataset[:,3]<=5)]\n",
        "# print(selected_rows)\n",
        "\n",
        "# selected_rows = np.ma.compress(dataset, noisy_data)\n",
        "# np.delete(dataset, noisy_data)\n",
        "print(selected_rows)"
      ],
      "execution_count": 29,
      "outputs": [
        {
          "output_type": "stream",
          "name": "stdout",
          "text": [
            "[[  0 189  87   2]\n",
            " [  1 185 110   4]\n",
            " [  1 195 104   3]\n",
            " [  0 149  61   3]\n",
            " [  0 147  92   5]\n",
            " [  0 154 111   5]\n",
            " [  0 195  81   2]\n",
            " [  1 192 101   3]\n",
            " [  0 155  51   2]\n",
            " [  1 157 110   5]\n",
            " [  0 140 129   5]\n",
            " [  0 144 145   5]\n",
            " [  0 157 110   5]\n",
            " [  1 153 149   5]\n",
            " [  1 169  97   4]\n",
            " [  0 185 139   5]\n",
            " [  1 172  67   2]\n",
            " [  1 151  64   3]\n",
            " [  0 190  95   3]\n",
            " [  0 187  62   1]\n",
            " [  1 163 159   5]\n",
            " [  0 179 152   5]\n",
            " [  0 153 121   5]\n",
            " [  0 178  52   1]\n",
            " [  1 195  65   1]\n",
            " [  1 160 131   5]\n",
            " [  1 157 153   5]\n",
            " [  1 189 132   4]\n",
            " [  1 197 114   3]\n",
            " [  0 144  80   4]\n",
            " [  1 171 152   5]\n",
            " [  1 185  81   2]\n",
            " [  1 175 120   4]\n",
            " [  1 149 108   5]\n",
            " [  0 157  56   2]\n",
            " [  0 161 118   5]\n",
            " [  1 182 126   4]\n",
            " [  0 185  76   2]\n",
            " [  1 188 122   4]\n",
            " [  0 181 111   4]\n",
            " [  0 161  72   3]\n",
            " [  0 140 152   5]]\n"
          ]
        }
      ]
    },
    {
      "cell_type": "markdown",
      "metadata": {
        "id": "HgiCe7VRWonF"
      },
      "source": [
        "3. In the cleaned dataset, compute the means (i.e., average) of Height and Weight features (rounded to the nearest integer)"
      ]
    },
    {
      "cell_type": "code",
      "metadata": {
        "id": "0f3BA-LIWonF",
        "outputId": "4f9a49b6-60de-4869-eb78-e0433a2f35f1",
        "colab": {
          "base_uri": "https://localhost:8080/"
        }
      },
      "source": [
        "np.shape(selected_rows)\n",
        "flattenedMean = np.mean(selected_rows, axis=(0))\n",
        "#axis=0-> columns, 1-> rows\n",
        "# print(flattenedMean)\n",
        "\n",
        "heightMean = selected_rows[:,1].mean()\n",
        "print(heightMean)\n",
        "print(heightMean.round())\n",
        "\n",
        "weightMean = selected_rows[:,2].mean()\n",
        "print(weightMean)\n",
        "print(weightMean.round())"
      ],
      "execution_count": 53,
      "outputs": [
        {
          "output_type": "stream",
          "name": "stdout",
          "text": [
            "169.42857142857142\n",
            "169.0\n",
            "105.19047619047619\n",
            "105.0\n"
          ]
        }
      ]
    },
    {
      "cell_type": "markdown",
      "metadata": {
        "id": "GuII8W8sWonF"
      },
      "source": [
        "4. Plot the data points from the cleaned dataset: For every record, plot the point with coordinates (Height, Weight), i.e. Height is along the X-axis and Weight is along the Y-axis. Use different colors/shapes of points for records with different value of Index. Can you see separation between the classes of objects with different values of Index?"
      ]
    },
    {
      "cell_type": "code",
      "metadata": {
        "id": "wrOCL6EdWonF",
        "outputId": "976903e6-8c81-4524-f90f-e3b378aa0d98",
        "colab": {
          "base_uri": "https://localhost:8080/",
          "height": 334
        }
      },
      "source": [
        "import matplotlib.pyplot as plt\n",
        "\n",
        "np.shape(selected_rows)\n",
        "height = list(selected_rows[:,1])\n",
        "print(height)\n",
        "weight = list(selected_rows[:,2])\n",
        "print(weight)\n",
        "# plt.plot(height, weight, 'rs')\n",
        "plt.scatter(height,weight)\n",
        "plt.xlabel(\"Height\")\n",
        "plt.ylabel(\"Weight\")\n",
        "plt.show()"
      ],
      "execution_count": 52,
      "outputs": [
        {
          "output_type": "stream",
          "name": "stdout",
          "text": [
            "[189, 185, 195, 149, 147, 154, 195, 192, 155, 157, 140, 144, 157, 153, 169, 185, 172, 151, 190, 187, 163, 179, 153, 178, 195, 160, 157, 189, 197, 144, 171, 185, 175, 149, 157, 161, 182, 185, 188, 181, 161, 140]\n",
            "[87, 110, 104, 61, 92, 111, 81, 101, 51, 110, 129, 145, 110, 149, 97, 139, 67, 64, 95, 62, 159, 152, 121, 52, 65, 131, 153, 132, 114, 80, 152, 81, 120, 108, 56, 118, 126, 76, 122, 111, 72, 152]\n"
          ]
        },
        {
          "output_type": "display_data",
          "data": {
            "image/png": "[encoded data removed]",
            "text/plain": [
              "<Figure size 432x288 with 1 Axes>"
            ]
          },
          "metadata": {
            "needs_background": "light"
          }
        }
      ]
    },
    {
      "cell_type": "markdown",
      "metadata": {
        "id": "_Lg7XlDeWonF"
      },
      "source": [
        "---\n",
        "\n",
        "## Exercise 2\n",
        "\n",
        "Given a dataset of objects with 2 features, create new datasets where both features are normalised."
      ]
    },
    {
      "cell_type": "code",
      "metadata": {
        "id": "0KEr4M3lWonG"
      },
      "source": [
        "dataset2 = np.array([[116.87714213,  22.38724318],[ 98.05089468,  17.70419866],[121.91732905,  20.76950035],[150.60375643,  20.44777321],[116.15969721,  20.22792041],[175.55264595,  21.02920868],[130.2102414 ,  22.23461658],[117.79758934,  21.54449521],[199.05450964,  20.53902401],[155.00458477,  20.67588878],[160.27851623,  20.30877322],[142.49587465,  18.75387901],[167.32252309,  21.2040159 ],[178.11489609,  19.52285308],[135.76602655,  18.01816954],[117.62628615,  20.95436217],[171.74626081,  20.37269529],[130.11860385,  19.56387712],[122.68044125,  21.48927022],[159.43238282,  21.38030275],[108.78123817,  19.86203164],[152.70729255,  21.24708246],[143.64358057,  21.40357256],[209.68785285,  19.65378059],[133.08486628,  19.23372601],[138.2204662 ,  20.37983756],[143.65610499,  19.92235183],[143.29146765,  20.56157279],[106.79099845,  19.35181412],[208.89304694,  19.9697894 ],[183.55451445,  20.36281171],[144.46962995,  19.83011097],[174.87583233,  20.25079178],[137.33207546,  21.02909898],[187.74834101,  20.23883521],[127.59840561,  21.7328862 ],[110.15966458,  19.29460209],[130.82208863,  18.98107528],[166.72373008,  20.63258552],[154.50866392,  21.05583445],[190.93412702,  21.08776453],[148.62481651,  19.40248102],[115.50503568,  18.39916603],[155.39233722,  20.23610734],[146.44242825,  20.30917973],[114.21209804,  19.10945672],[140.4159023 ,  19.96369514],[140.82108456,  20.05603083],[129.50278428,  18.92210224],[174.88635445,  19.03980704]])"
      ],
      "execution_count": 54,
      "outputs": []
    },
    {
      "cell_type": "markdown",
      "metadata": {
        "id": "DIJVfyAkWonG"
      },
      "source": [
        "1. Normalise features with $[0,1]$-scaling"
      ]
    },
    {
      "cell_type": "code",
      "metadata": {
        "id": "K_stin6fWonG",
        "outputId": "f7bd3051-ee70-4bfb-c8b3-6573f05f0afc",
        "colab": {
          "base_uri": "https://localhost:8080/"
        }
      },
      "source": [
        "np.reshape(dataset2,np.shape(dataset2))\n",
        "\n",
        "def NormaliseData(arr):\n",
        "  return (arr-np.min(arr))/(np.max(arr)-np.min(arr))\n",
        "\n",
        "normalisedData = NormaliseData(dataset2)\n",
        "print(normalisedData)"
      ],
      "execution_count": 57,
      "outputs": [
        {
          "output_type": "stream",
          "name": "stdout",
          "text": [
            "[[0.51656973 0.02439293]\n",
            " [0.418508   0.        ]\n",
            " [0.54282293 0.01596647]\n",
            " [0.69224413 0.01429067]\n",
            " [0.51283271 0.0131455 ]\n",
            " [0.82219733 0.01731923]\n",
            " [0.58601886 0.02359794]\n",
            " [0.52136413 0.02000325]\n",
            " [0.94461329 0.01476597]\n",
            " [0.71516706 0.01547887]\n",
            " [0.74263779 0.01356665]\n",
            " [0.65001198 0.00546755]\n",
            " [0.77932845 0.01822977]\n",
            " [0.83554352 0.00947296]\n",
            " [0.61495771 0.0016354 ]\n",
            " [0.52047185 0.01692938]\n",
            " [0.80237072 0.0138996 ]\n",
            " [0.58554154 0.00968665]\n",
            " [0.54679781 0.01971559]\n",
            " [0.73823047 0.01914801]\n",
            " [0.47439997 0.01123967]\n",
            " [0.70320098 0.01845409]\n",
            " [0.65599013 0.01926921]\n",
            " [1.         0.01015494]\n",
            " [0.60099214 0.00796697]\n",
            " [0.62774234 0.01393681]\n",
            " [0.65605537 0.01155386]\n",
            " [0.65415605 0.01488342]\n",
            " [0.46403325 0.00858206]\n",
            " [0.99586003 0.01180096]\n",
            " [0.86387727 0.01384812]\n",
            " [0.66029283 0.0110734 ]\n",
            " [0.81867196 0.01326464]\n",
            " [0.62311491 0.01731866]\n",
            " [0.88572198 0.01320236]\n",
            " [0.57241439 0.02098453]\n",
            " [0.48157988 0.00828406]\n",
            " [0.58920584 0.00665097]\n",
            " [0.77620947 0.01525331]\n",
            " [0.71258392 0.01745792]\n",
            " [0.90231603 0.01762424]\n",
            " [0.68193627 0.00884597]\n",
            " [0.50942273 0.00361993]\n",
            " [0.71718678 0.01318815]\n",
            " [0.6705687  0.01356876]\n",
            " [0.50268811 0.00731968]\n",
            " [0.63917787 0.01176921]\n",
            " [0.64128838 0.01225017]\n",
            " [0.58233388 0.00634379]\n",
            " [0.81872676 0.00695689]]\n"
          ]
        }
      ]
    },
    {
      "cell_type": "markdown",
      "metadata": {
        "id": "pnUmKT_KWonG"
      },
      "source": [
        "2. Normalise features with Gaussian normalisation"
      ]
    },
    {
      "cell_type": "code",
      "metadata": {
        "id": "ecZG3KCzWonG",
        "outputId": "b3b08e77-d674-400a-ea92-284a0af5ea44",
        "colab": {
          "base_uri": "https://localhost:8080/"
        }
      },
      "source": [
        "def NormaliseGaussian(arr):\n",
        "  flatMean = np.mean(arr)\n",
        "  stdDev = np.std(arr)\n",
        "  return (arr-flatMean)/stdDev\n",
        "\n",
        "gaussianNormalized = NormaliseGaussian(dataset2)\n",
        "print(np.mean(gaussianNormalized))\n",
        "print(np.std(gaussianNormalized))\n",
        "print(gaussianNormalized)"
      ],
      "execution_count": 59,
      "outputs": [
        {
          "output_type": "stream",
          "name": "stdout",
          "text": [
            "-2.7866597918091427e-16\n",
            "1.0\n",
            "[[ 0.50690967 -0.92417146]\n",
            " [ 0.22177986 -0.99509773]\n",
            " [ 0.58324499 -0.94867271]\n",
            " [ 1.01771053 -0.95354538]\n",
            " [ 0.49604373 -0.95687512]\n",
            " [ 1.3955698  -0.94473934]\n",
            " [ 0.70884392 -0.92648304]\n",
            " [ 0.52085015 -0.93693516]\n",
            " [ 1.75151339 -0.95216335]\n",
            " [ 1.08436254 -0.95009049]\n",
            " [ 1.164238   -0.95565058]\n",
            " [ 0.89491395 -0.97919997]\n",
            " [ 1.27092184 -0.94209183]\n",
            " [ 1.43437594 -0.9675536 ]\n",
            " [ 0.79298814 -0.99034254]\n",
            " [ 0.51825571 -0.94587292]\n",
            " [ 1.33792083 -0.95468246]\n",
            " [ 0.70745604 -0.96693228]\n",
            " [ 0.59480258 -0.93777156]\n",
            " [ 1.15142303 -0.93942191]\n",
            " [ 0.3842945  -0.96241663]\n",
            " [ 1.04956929 -0.94143957]\n",
            " [ 0.91229634 -0.93906948]\n",
            " [ 1.91255893 -0.96557066]\n",
            " [ 0.75238108 -0.97193253]\n",
            " [ 0.83016145 -0.95457429]\n",
            " [ 0.91248602 -0.96150306]\n",
            " [ 0.90696347 -0.95182185]\n",
            " [ 0.35415165 -0.97014405]\n",
            " [ 1.90052133 -0.9607846 ]\n",
            " [ 1.51676078 -0.95483215]\n",
            " [ 0.92480713 -0.96290008]\n",
            " [ 1.38531924 -0.95652873]\n",
            " [ 0.81670648 -0.944741  ]\n",
            " [ 1.58027769 -0.95670981]\n",
            " [ 0.66928679 -0.93408191]\n",
            " [ 0.40517123 -0.97101054]\n",
            " [ 0.71811055 -0.97575901]\n",
            " [ 1.26185292 -0.95074633]\n",
            " [ 1.07685166 -0.94433609]\n",
            " [ 1.62852748 -0.9438525 ]\n",
            " [ 0.98773882 -0.96937668]\n",
            " [ 0.48612866 -0.98457222]\n",
            " [ 1.09023518 -0.95675113]\n",
            " [ 0.95468582 -0.95564442]\n",
            " [ 0.46654669 -0.97381463]\n",
            " [ 0.86341207 -0.9608769 ]\n",
            " [ 0.86954869 -0.95947845]\n",
            " [ 0.69812925 -0.97665218]\n",
            " [ 1.3854786  -0.9748695 ]]\n"
          ]
        }
      ]
    },
    {
      "cell_type": "markdown",
      "metadata": {
        "id": "FJnoVtsbWonG"
      },
      "source": [
        "3. In three different plots show the original data, $[0,1]$-normilised, and Gaussian normalised data."
      ]
    },
    {
      "cell_type": "code",
      "metadata": {
        "id": "9a0c-0GGWonG",
        "outputId": "4f6d12a2-bce0-488a-a762-24e6154d9bbd",
        "colab": {
          "base_uri": "https://localhost:8080/",
          "height": 761
        }
      },
      "source": [
        "plt.plot(dataset2)\n",
        "plt.show()\n",
        "\n",
        "plt.plot(normalisedData)\n",
        "plt.show()\n",
        "\n",
        "plt.plot(gaussianNormalized)\n",
        "plt.show()"
      ],
      "execution_count": 61,
      "outputs": [
        {
          "output_type": "display_data",
          "data": {
            "image/png": "[encoded data removed]",
            "text/plain": [
              "<Figure size 432x288 with 1 Axes>"
            ]
          },
          "metadata": {
            "needs_background": "light"
          }
        },
        {
          "output_type": "display_data",
          "data": {
            "image/png": "[encoded data removed]",
            "text/plain": [
              "<Figure size 432x288 with 1 Axes>"
            ]
          },
          "metadata": {
            "needs_background": "light"
          }
        },
        {
          "output_type": "display_data",
          "data": {
            "image/png": "[encoded data removed]",
            "text/plain": [
              "<Figure size 432x288 with 1 Axes>"
            ]
          },
          "metadata": {
            "needs_background": "light"
          }
        }
      ]
    },
    {
      "cell_type": "markdown",
      "metadata": {
        "id": "_ZzUFbtvWonH"
      },
      "source": [
        "---\n",
        "\n",
        "## Exercise 3\n",
        "\n",
        "Given training ($\\texttt{y_true}$) and predicted ($\\texttt{y_pred}$) data for binary classification, where 1 corresponds to the positive class and 0 corresponds to the negative class, compute\n",
        "1. The number of True Positives, True Negatives, False Positives, False Negatives\n",
        "2. Accuracy\n",
        "3. Precision\n",
        "4. Recall\n",
        "5. F-score"
      ]
    },
    {
      "cell_type": "code",
      "metadata": {
        "id": "hUR_vzmTWonH"
      },
      "source": [
        "y_true = np.array([0, 1, 0, 0, 1, 1, 1, 0, 1, 1, 0, 0, 1, 1, 0, 1, 0, 1, 0, 0, 0, 0, 1, 1, 1, 1, 1, 0, 0, 1, 1, 1, 1, 1, 1, 1, 0, 0, 1, 1, 1, 0, 0, 1, 1, 1, 1, 0, 1, 0])\n",
        "y_pred = np.array([0, 1, 0, 0, 1, 0, 1, 1, 1, 1, 0, 0, 0, 0, 0, 1, 0, 1, 0, 0, 1, 1, 1, 0, 1, 1, 1, 0, 1, 1, 1, 1, 1, 1, 1, 1, 0, 0, 1, 1, 0, 0, 0, 0, 1, 1, 0, 1, 0, 0])"
      ],
      "execution_count": 62,
      "outputs": []
    },
    {
      "cell_type": "code",
      "metadata": {
        "id": "x_Kk4NmoWonH",
        "outputId": "46b061cd-80b0-4cb5-8258-3a5de7bb1c7e",
        "colab": {
          "base_uri": "https://localhost:8080/"
        }
      },
      "source": [
        "def generateConfusionMatrix(y_true, y_pred):\n",
        "  TP = 0\n",
        "  FP = 0\n",
        "  FN = 0\n",
        "  TN = 0\n",
        "\n",
        "  for index in range(len(y_pred)):\n",
        "    if(y_pred[index] == y_true[index] == 1):\n",
        "      TP += 1\n",
        "    elif(y_pred[index] == 1 and y_true[index] != y_pred[index]):\n",
        "      FP += 1\n",
        "    elif(y_pred[index] == 0 and y_true[index] != y_pred[index]):\n",
        "      FN += 1\n",
        "    elif(y_pred[index] == y_true[index] == 0):\n",
        "      TN += 1\n",
        "  \n",
        "  return np.array([[TP, FP], [FN, TN]])\n",
        "\n",
        "confusionMatrix = generateConfusionMatrix(y_true, y_pred)\n",
        "TP = confusionMatrix[0][0]\n",
        "FP = confusionMatrix[0][1]\n",
        "FN = confusionMatrix[1][0]\n",
        "TN = confusionMatrix[1][1]\n",
        "\n",
        "N  = np.shape(y_true)\n",
        "accuracy = (y_true == y_pred).sum() / N\n",
        "TrueP = ((y_pred == 1) & (y_true == 1)).sum()\n",
        "FalseP = ((y_pred == 1) & (y_true == 0)).sum()\n",
        "FalseN = ((y_pred == 0) & (y_true == 1)).sum()\n",
        "TrueN = ((y_pred == 1) & (y_true == 1)).sum()\n",
        "\n",
        "precision = TP / (TP+FP)\n",
        "recall = TP / (TP+FN)\n",
        "f_score = (2 * precision * recall) / (precision + recall)\n",
        "\n",
        "precision1 = TrueP / (TrueP+FalseP)\n",
        "recall1 = TrueP / (TrueP+FalseN)\n",
        "f_score1 = (2 * precision1 * recall1) / (precision1 + recall1)\n",
        "\n",
        "# print(precision)\n",
        "# print(precision1)\n",
        "# print(recall)\n",
        "# print(recall1)\n",
        "# print(f_score)\n",
        "# print(f_score1)\n",
        "\n"
      ],
      "execution_count": 69,
      "outputs": [
        {
          "output_type": "stream",
          "name": "stdout",
          "text": [
            "0.7719298245614035\n",
            "0.7719298245614035\n"
          ]
        }
      ]
    },
    {
      "cell_type": "markdown",
      "metadata": {
        "id": "_QxVDuGjWonH"
      },
      "source": [
        "---\n",
        "\n",
        "## Exercise 4\n",
        "\n",
        "Given training and predicted data for 4-class classification, where classes are 0,1,2,3"
      ]
    },
    {
      "cell_type": "code",
      "metadata": {
        "id": "8WMozxqCWonH"
      },
      "source": [
        "y_true = np.array([1, 2, 3, 0, 1, 1, 0, 0, 2, 0, 2, 2, 1, 0, 1, 2, 3, 3, 3, 3, 0, 0, 1, 0, 0, 0, 1, 0, 0, 3, 0, 3, 2, 1, 1, 2, 1, 0, 3, 1, 2, 0, 0, 1,3, 2, 3, 3, 3, 0, 3, 1, 0, 1, 0, 2, 0, 3, 3, 3, 2, 0, 1, 3, 0, 1,3, 3, 2, 2, 1, 3, 2, 2, 2, 2, 3, 1, 1, 2, 3, 2, 2, 3, 2, 2, 1, 1,2, 2, 0, 3, 0, 0, 0, 1, 0, 3, 1, 0, 0, 3, 3, 1, 0, 2, 0, 3, 3, 2,1, 0, 3, 2, 0, 1, 3, 1, 2, 1, 3, 2, 2, 2, 2, 3, 3, 3, 2, 0, 2, 2,2, 0, 2, 0, 0, 3, 0, 2, 2, 0, 1, 1, 2, 2, 3, 0, 1, 0, 1, 0, 0, 0,0, 0, 2, 2, 0, 3, 3, 2, 3, 0, 3, 3, 2, 0, 0, 1, 2, 2, 3, 3, 1, 3,1, 2, 1, 2, 0, 0, 0, 0, 2, 2, 1, 3, 0, 2, 1, 1, 1, 1, 3, 2, 1, 3,1, 0])\n",
        "y_pred = np.array([1, 1, 1, 1, 2, 1, 0, 0, 2, 0, 2, 2, 1, 3, 1, 2, 1, 3, 2, 3, 1, 1, 2, 3, 0, 0, 1, 0, 1, 0, 2, 3, 2, 0, 1, 3, 1, 0, 0, 1, 3, 1, 0, 1,3, 3, 3, 3, 3, 1, 3, 1, 2, 2, 0, 2, 0, 3, 3, 3, 0, 2, 2, 3, 2, 2,3, 3, 2, 2, 1, 3, 3, 2, 3, 2, 3, 2, 2, 0, 3, 1, 2, 3, 3, 1, 2, 2,2, 2, 0, 3, 0, 0, 0, 1, 0, 3, 1, 0, 0, 3, 3, 2, 0, 2, 0, 3, 3, 2,1, 0, 3, 2, 0, 1, 3, 1, 2, 1, 0, 3, 2, 2, 0, 3, 3, 3, 2, 1, 2, 3,2, 0, 2, 0, 0, 3, 0, 2, 3, 0, 1, 1, 2, 2, 0, 0, 2, 0, 1, 0, 0, 0,0, 0, 2, 2, 0, 0, 3, 2, 3, 0, 0, 3, 3, 0, 1, 1, 2, 2, 3, 3, 2, 3,1, 2, 1, 2, 1, 1, 0, 0, 2, 2, 1, 3, 0, 2, 1, 1, 1, 1, 3, 3, 1, 3,1, 0])"
      ],
      "execution_count": 75,
      "outputs": []
    },
    {
      "cell_type": "markdown",
      "metadata": {
        "id": "l7nW7HExWonI"
      },
      "source": [
        "1. Compute the confusion matrix, i.e. a 4x4 matrix $\\overline{A}$, in which an element $\\overline{A}_{i,j}$ contains the number of elements that were predicted to be in class $i$, while their true class is $j$"
      ]
    },
    {
      "cell_type": "code",
      "metadata": {
        "id": "WWzBVgOUWonI",
        "outputId": "7f2abe29-7334-4b87-a086-90d94f90afaf",
        "colab": {
          "base_uri": "https://localhost:8080/"
        }
      },
      "source": [
        "# from sklearn.metrics import confusion_matrix as cm\n",
        "\n",
        "# confMat = cm(y_true, y_pred)\n",
        "# print(confMat)\n",
        "\n",
        "def comp_confmat(actual, predicted):\n",
        "\n",
        "    # extract the different classes\n",
        "    classes = np.unique(actual)\n",
        "\n",
        "    # initialize the confusion matrix\n",
        "    confmat = np.zeros((len(classes), len(classes)))\n",
        "\n",
        "    # loop across the different combinations of actual / predicted classes\n",
        "    for i in range(len(classes)):\n",
        "        for j in range(len(classes)):\n",
        "\n",
        "           # count the number of instances in each combination of actual / predicted classes\n",
        "           confmat[i, j] = np.sum((actual == classes[i]) & (predicted == classes[j]))\n",
        "\n",
        "    return confmat\n",
        "\n",
        "confMat = comp_confmat(y_true, y_pred)\n",
        "print(confMat)"
      ],
      "execution_count": 77,
      "outputs": [
        {
          "output_type": "stream",
          "name": "stdout",
          "text": [
            "[[40. 10.  4.  2.]\n",
            " [ 1. 30. 12.  0.]\n",
            " [ 3.  3. 36. 11.]\n",
            " [ 6.  2.  1. 39.]]\n"
          ]
        }
      ]
    },
    {
      "cell_type": "markdown",
      "metadata": {
        "id": "AsVdLp6EWonI"
      },
      "source": [
        "2. Compute Precision, Recall, F-score for every class, and compute the macro F-score"
      ]
    },
    {
      "cell_type": "code",
      "metadata": {
        "id": "0M-qeTeWWonI",
        "colab": {
          "base_uri": "https://localhost:8080/"
        },
        "outputId": "0059bb55-a73a-4015-f97e-91f03b6bda43"
      },
      "source": [
        "def getTP(confusionMatrix, clazz):\n",
        "  return confusionMatrix[clazz][clazz]\n",
        "\n",
        "def getFP(confusionMatrix, clazz):\n",
        "  col = np.shape(confusionMatrix)[1]\n",
        "  sum = 0\n",
        "\n",
        "  for i in range(col):\n",
        "    if(i != clazz):\n",
        "      sum += confusionMatrix[clazz][i]\n",
        "  \n",
        "  return sum\n",
        "\n",
        "def getFN(confusionMatrix, clazz):\n",
        "  col = np.shape(confusionMatrix)[1]\n",
        "  sum = 0\n",
        "\n",
        "  for i in range(col):\n",
        "    if(i != clazz):\n",
        "      sum += confusionMatrix[i][clazz]\n",
        "  \n",
        "  return sum\n",
        "\n",
        "def getTN(confusionMatrix, clazz):\n",
        "  col = np.shape(confusionMatrix)[1]\n",
        "  sum = 0\n",
        "\n",
        "  for i in range(col):\n",
        "    for j in range(col):\n",
        "      if(i != clazz and j != clazz):\n",
        "        sum += confusionMatrix[i][j]\n",
        "  \n",
        "  return sum\n",
        "\n",
        "class0Acc = (getTP(confMat, 0)+ getTN(confMat, 0))/np.sum(confMat)\n",
        "class0Prec = getTP(confMat, 0)/(getTP(confMat, 0)+ getFP(confMat, 0))\n",
        "class0Recall = getTP(confMat, 0)/(getTP(confMat, 0)+getFN(confMat, 0))\n",
        "class0f1Score = 2*class0Prec*class0Recall/(class0Recall+class0Prec)\n",
        "\n",
        "class1Acc = (getTP(confMat, 1)+ getTN(confMat, 1))/np.sum(confMat)\n",
        "class1Prec = getTP(confMat, 1)/(getTP(confMat, 1)+ getFP(confMat, 1))\n",
        "class1Recall = getTP(confMat, 1)/(getTP(confMat, 1)+getFN(confMat, 1))\n",
        "class1f1Score = 2*class0Prec*class0Recall/(class0Recall+class0Prec)\n",
        "\n",
        "class2Acc = (getTP(confMat, 2)+ getTN(confMat, 2))/np.sum(confMat)\n",
        "class2Prec = getTP(confMat, 2)/(getTP(confMat, 2)+ getFP(confMat, 2))\n",
        "class2Recall = getTP(confMat, 2)/(getTP(confMat, 2)+getFN(confMat, 2))\n",
        "class2f1Score = 2*class0Prec*class0Recall/(class0Recall+class0Prec)\n",
        "\n",
        "class3Acc = (getTP(confMat, 3)+ getTN(confMat, 3))/np.sum(confMat)\n",
        "class3Prec = getTP(confMat, 3)/(getTP(confMat, 3)+ getFP(confMat, 3))\n",
        "class3Recall = getTP(confMat, 3)/(getTP(confMat, 3)+getFN(confMat, 3))\n",
        "class3f1Score = 2*class0Prec*class0Recall/(class0Recall+class0Prec)\n",
        "\n",
        "macroF1Score = (class0f1Score+class1f1Score+class2f1Score+class3f1Score)/4\n",
        "print(macroF1Score)\n"
      ],
      "execution_count": 78,
      "outputs": [
        {
          "output_type": "stream",
          "name": "stdout",
          "text": [
            "0.7547169811320756\n"
          ]
        }
      ]
    }
  ]
}