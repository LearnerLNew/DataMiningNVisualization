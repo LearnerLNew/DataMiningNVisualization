{
  "nbformat": 4,
  "nbformat_minor": 0,
  "metadata": {
    "colab": {
      "name": "Numpy,_Matplotlib,_and_Math_Preliminaries.ipynb",
      "provenance": [],
      "collapsed_sections": [],
      "authorship_tag": "ABX9TyOeshkPBybk3YsHl6/yL5W6",
      "include_colab_link": true
    },
    "kernelspec": {
      "name": "python3",
      "display_name": "Python 3"
    },
    "language_info": {
      "name": "python"
    }
  },
  "cells": [
    {
      "cell_type": "markdown",
      "metadata": {
        "id": "view-in-github",
        "colab_type": "text"
      },
      "source": [
        "<a href=\"https://colab.research.google.com/github/LearnerLNew/DataMiningNVisualization/blob/main/Numpy%2C_Matplotlib%2C_and_Math_Preliminaries_Updated.ipynb\" target=\"_parent\"><img src=\"https://colab.research.google.com/assets/colab-badge.svg\" alt=\"Open In Colab\"/></a>"
      ]
    },
    {
      "cell_type": "markdown",
      "source": [
        "# Numpy, Matplotlib and Math preliminaries\n",
        "\n",
        "Numpy is a python library that provides data structures useful for data mining such as arrays, and various functions on those data structures. Follow [the official numpy tutorial](https://numpy.org/devdocs/user/quickstart.html) and familiarize yourself with numpy. Using only Numpy as an external library complete the following exercises."
      ],
      "metadata": {
        "id": "bI1snQh_-MS_"
      }
    },
    {
      "cell_type": "code",
      "execution_count": 3,
      "metadata": {
        "id": "5Jz0VN617a8K"
      },
      "outputs": [],
      "source": [
        "import numpy as np"
      ]
    },
    {
      "cell_type": "markdown",
      "source": [
        "## Excercise 1\n",
        "Given $\\overline{X} = (1,2,3,4,5,6,7,8,9,10)^T$ and $\\overline{Y} = (10,9,8,7,6,5,4,3,2,1)^T$ find\n",
        "\n",
        "1. $\\overline{X} + \\overline{Y}$\n",
        "2. $\\overline{X}^T \\overline{Y}$\n",
        "2. $\\overline{X}\\overline{Y}^T$"
      ],
      "metadata": {
        "id": "918Vyvqk8K0t"
      }
    },
    {
      "cell_type": "code",
      "source": [
        "x = np.array([1,2,3,4,5,6,7,8,9,10])\n",
        "x1 = np.transpose(x)\n",
        "print(x1)\n",
        "y = np.array([10,9,8,7,6,5,4,3,2,1])\n",
        "y1 = np.transpose(y)\n",
        "\n",
        "#1. x+y\n",
        "addn = x1+y1\n",
        "print(addn)\n",
        "\n",
        "#2. x_transpose.y\n",
        "x_transpose = np.transpose(x1)\n",
        "innerProduct = x_transpose.dot(y1)\n",
        "print(innerProduct)\n",
        "\n",
        "#3. x.y_transpose\n",
        "y_transpose = np.transpose(y)\n",
        "outerProduct = np.outer(x,y_transpose)\n",
        "print(outerProduct)"
      ],
      "metadata": {
        "id": "snvnldvW8m5m",
        "outputId": "838d3d2f-b7a3-4787-c0a7-638bf951f24b",
        "colab": {
          "base_uri": "https://localhost:8080/"
        }
      },
      "execution_count": 15,
      "outputs": [
        {
          "output_type": "stream",
          "name": "stdout",
          "text": [
            "[ 1  2  3  4  5  6  7  8  9 10]\n",
            "[11 11 11 11 11 11 11 11 11 11]\n",
            "220\n",
            "[[ 10   9   8   7   6   5   4   3   2   1]\n",
            " [ 20  18  16  14  12  10   8   6   4   2]\n",
            " [ 30  27  24  21  18  15  12   9   6   3]\n",
            " [ 40  36  32  28  24  20  16  12   8   4]\n",
            " [ 50  45  40  35  30  25  20  15  10   5]\n",
            " [ 60  54  48  42  36  30  24  18  12   6]\n",
            " [ 70  63  56  49  42  35  28  21  14   7]\n",
            " [ 80  72  64  56  48  40  32  24  16   8]\n",
            " [ 90  81  72  63  54  45  36  27  18   9]\n",
            " [100  90  80  70  60  50  40  30  20  10]]\n"
          ]
        }
      ]
    },
    {
      "cell_type": "markdown",
      "source": [
        "---\n",
        "## Excercise 2\n",
        "Given two matrices \n",
        "$\\overline{A} = \\begin{pmatrix}1 & 2 & 3 & 4 & 5\\\\ 6 & 7 & 8 & 9 & 10\\\\ 11 & 12 & 13 & 14 & 15\\\\ 16 & 17 & 18 & 19 & 20\\\\ 21 & 22 & 23 & 24 & 25 \\end{pmatrix}$\n",
        "and \n",
        "$\\overline{B} = \\begin{pmatrix}0 & 1 & 0 & 1 & 0\\\\ 1 & 2 & 3 & 4 & 5\\\\ -1 & 0 & 1 & 0 & -1 \\\\ 5 & 4 & 3 & 2 & 5\\\\ -1 & 0 & 1 & 0 & -1 \\end{pmatrix}$\n",
        "\n",
        "1. Compute $\\overline{A} + \\overline{B}$\n",
        "2. Compute $\\overline{B} + \\overline{A}$. Is it equal to $\\overline{A} + \\overline{B}$? Is it always the case?\n",
        "3. Compute $\\overline{A} \\cdot \\overline{B}$\n",
        "4. Compute $\\overline{B} \\cdot \\overline{A}$. Is it equal to $\\overline{A} \\cdot \\overline{B}$?"
      ],
      "metadata": {
        "id": "8VDStth68uf8"
      }
    },
    {
      "cell_type": "code",
      "source": [
        "a = np.arange(1,26,1).reshape(5,5)\n",
        "b = np.array([[0,1,0,1,0], [1,2,3,4,5], [-1,0,1,0,-1],[5,4,3,2,1],[-1,0,1,0,-1]])\n",
        "\n",
        "#1. a+b\n",
        "addn = a+b\n",
        "print(addn)\n",
        "\n",
        "#2. b+a\n",
        "addn1 = b+a\n",
        "print(addn1)\n",
        "\n",
        "#2.1 Is a+b == b+a\n",
        "np.array_equal(a,b)\n",
        "print(addn == addn1)\n",
        "\n",
        "#3. a.b\n",
        "abDot = a.dot(b)\n",
        "print(abDot)\n",
        "\n",
        "#4. b.a\n",
        "baDot = b.dot(a)\n",
        "print(baDot)\n",
        "\n",
        "#4.1 Is a.b == b.a\n",
        "print(abDot == baDot)"
      ],
      "metadata": {
        "id": "UTS5uuuU80r6",
        "outputId": "7a314050-5832-4d53-8fae-aff2dc8cb740",
        "colab": {
          "base_uri": "https://localhost:8080/"
        }
      },
      "execution_count": 5,
      "outputs": [
        {
          "output_type": "stream",
          "name": "stdout",
          "text": [
            "[[ 1  3  3  5  5]\n",
            " [ 7  9 11 13 15]\n",
            " [10 12 14 14 14]\n",
            " [21 21 21 21 21]\n",
            " [20 22 24 24 24]]\n",
            "[[ 1  3  3  5  5]\n",
            " [ 7  9 11 13 15]\n",
            " [10 12 14 14 14]\n",
            " [21 21 21 21 21]\n",
            " [20 22 24 24 24]]\n",
            "[[ True  True  True  True  True]\n",
            " [ True  True  True  True  True]\n",
            " [ True  True  True  True  True]\n",
            " [ True  True  True  True  True]\n",
            " [ True  True  True  True  True]]\n",
            "[[ 14  21  26  17   6]\n",
            " [ 34  56  66  52  26]\n",
            " [ 54  91 106  87  46]\n",
            " [ 74 126 146 122  66]\n",
            " [ 94 161 186 157  86]]\n",
            "[[ 22  24  26  28  30]\n",
            " [215 230 245 260 275]\n",
            " [-11 -12 -13 -14 -15]\n",
            " [115 130 145 160 175]\n",
            " [-11 -12 -13 -14 -15]]\n",
            "[[False False  True False False]\n",
            " [False False False False False]\n",
            " [False False False False False]\n",
            " [False False False False False]\n",
            " [False False False False False]]\n"
          ]
        }
      ]
    },
    {
      "cell_type": "markdown",
      "source": [
        "---\n",
        "## Excercise 3\n",
        "Compute the inverse of the following matrix\n",
        "$\\overline{A} = \\begin{pmatrix} 1 & 2 & 4\\\\ -2 & 1 & 5 \\\\1 & 2 & 3 \\end{pmatrix}$, if one exsits. Verify that the matrix product of $\\overline{A}$ and its inverse is the 3x3 identity matrix."
      ],
      "metadata": {
        "id": "TJbkh0AP89SD"
      }
    },
    {
      "cell_type": "code",
      "source": [
        "a = np.array([[1,2,4],[-2,1,5],[1,2,3]])\n",
        "ainv = np.linalg.inv(a)\n",
        "\n",
        "print(ainv)\n",
        "\n",
        "aainv = a @ ainv\n",
        "print(aainv)\n",
        "\n",
        "# np.matmul\n",
        "aainvDot = a.dot(ainv)\n",
        "print(aainvDot)"
      ],
      "metadata": {
        "colab": {
          "base_uri": "https://localhost:8080/"
        },
        "id": "qvb_7szs9FND",
        "outputId": "eb717194-e77b-4e48-802c-56dc60dfd40e"
      },
      "execution_count": 6,
      "outputs": [
        {
          "output_type": "stream",
          "name": "stdout",
          "text": [
            "[[ 1.4 -0.4 -1.2]\n",
            " [-2.2  0.2  2.6]\n",
            " [ 1.  -0.  -1. ]]\n",
            "[[ 1.0000000e+00  0.0000000e+00  0.0000000e+00]\n",
            " [ 0.0000000e+00  1.0000000e+00  0.0000000e+00]\n",
            " [-4.4408921e-16  0.0000000e+00  1.0000000e+00]]\n",
            "[[ 1.0000000e+00  0.0000000e+00  0.0000000e+00]\n",
            " [ 0.0000000e+00  1.0000000e+00  0.0000000e+00]\n",
            " [-4.4408921e-16  0.0000000e+00  1.0000000e+00]]\n"
          ]
        }
      ]
    },
    {
      "cell_type": "markdown",
      "source": [
        "---\n",
        "## Excercise 4\n",
        "Find the ranks of the following matrices\n",
        "$\\overline{A} = \\left(\\begin{matrix} 1 & 0 & 1 \\\\ 0 & 1 & 1\\\\ 0 & 0 & 0\\end{matrix}\\right)~$ and\n",
        "$~\\overline{B} = \\left(\\begin{matrix} 1 & 2 & 1 \\\\-2 & -3 & 1\\\\ 3 & 5 & 0\\end{matrix}\\right)$."
      ],
      "metadata": {
        "id": "oXXosKK59Lb3"
      }
    },
    {
      "cell_type": "code",
      "source": [
        "a = np.array([[1,0,1],[0,1,1],[0,0,0]])\n",
        "b = np.array([[1,2,1],[-2,-3,1],[3,5,0]])\n",
        "\n",
        "arank = np.linalg.matrix_rank(a)\n",
        "print(arank)\n",
        "\n",
        "brank = np.linalg.matrix_rank(b)\n",
        "print(brank)"
      ],
      "metadata": {
        "id": "nr6gno749R1M",
        "outputId": "e341d0e6-b134-4d36-e4ae-52d9b1a24717",
        "colab": {
          "base_uri": "https://localhost:8080/"
        }
      },
      "execution_count": 7,
      "outputs": [
        {
          "output_type": "stream",
          "name": "stdout",
          "text": [
            "2\n",
            "2\n"
          ]
        }
      ]
    },
    {
      "cell_type": "markdown",
      "source": [
        "---\n",
        "## Excercise 5\n",
        "Find the eigenvalues of matrix\n",
        " $\\overline{A} = \\left(\\begin{matrix} 4 & 2\\\\ 1 & 3\\end{matrix}\\right)$"
      ],
      "metadata": {
        "id": "v3n4k3TE9Xwu"
      }
    },
    {
      "cell_type": "code",
      "source": [
        "a = np.array([[4,2],[1,3]])\n",
        "\n",
        "eigenVector, eigenValue = np.linalg.eig(a)\n",
        "print(eigenVector)\n",
        "print(eigenValue)\n",
        "\n",
        "eigVals = np.linalg.eigvals(a)\n",
        "print(eigVals)"
      ],
      "metadata": {
        "id": "qw3e1Wo_9c75",
        "outputId": "44f4a6f9-361c-4b58-aaf0-f4ee72de60b1",
        "colab": {
          "base_uri": "https://localhost:8080/"
        }
      },
      "execution_count": 8,
      "outputs": [
        {
          "output_type": "stream",
          "name": "stdout",
          "text": [
            "[5. 2.]\n",
            "[[ 0.89442719 -0.70710678]\n",
            " [ 0.4472136   0.70710678]]\n",
            "[5. 2.]\n"
          ]
        }
      ]
    },
    {
      "cell_type": "markdown",
      "source": [
        "---\n",
        "## Excercise 6\n",
        " \n",
        "For this excercise we will need [Matplotlib](https://matplotlib.org/index.html). Follow [the official Matplotlib tutorial](https://matplotlib.org/tutorials/introductory/pyplot.html#) and familiarize yourself with Matplotlib.\n",
        "\n",
        "Recall from the lecture the Gradient Descent method for finding local minimum of a function:\n",
        "\n",
        "1. Pick an initial point $\\overline{X}_0$\n",
        "2. Iterate according to $\\overline{X}_{i+1} = \\overline{X}_i - \\gamma \\cdot \\big((\\nabla_{\\overline{X}} f)(\\overline{X}_i) \\big)$\n",
        "\n",
        "\n",
        "Examine this method by trying to find the minimum of the function $f(x) = (x-3)^2$. More specifically, for every $\\gamma \\in \\{0.01, 0.1, 0.9, 1, 2\\}$:\n",
        "1. Plot the graph of $f(x) = (x-3)^2$\n",
        "2. Pick an intial point $x = -4$\n",
        "3. Run 20 interations of the methods \n",
        "4. In every iteration $i = 1, \\ldots, 20$, plot the point $(x_i, f(x_i))$ on the same plot as the graph of the function $f(x)$\n",
        "\n",
        "Interpret the results."
      ],
      "metadata": {
        "id": "8q7gXy029hmj"
      }
    },
    {
      "cell_type": "code",
      "source": [
        "import matplotlib.pyplot as plt\n",
        "x = np.arange(-4, 17)\n",
        "y = (x-3)**2\n",
        "\n",
        "dydx = 2*x - 6\n",
        "x1 = x-0.01*dydx\n",
        "x2 = x-0.1*dydx\n",
        "x3 = x-0.9*dydx\n",
        "x4 = x-1.2*dydx\n",
        "\n",
        "plt.plot(x,y)\n",
        "plt.show()\n",
        "\n",
        "# plt.plot(x,y, 'r--', x1, y, 'bs')\n",
        "# plt.show()\n",
        "\n",
        "# plt.plot(x,y, 'r--', x2, y, 'gs')\n",
        "# plt.show()\n",
        "\n",
        "# plt.plot(x,y, 'r--', x3, y, 'b^')\n",
        "# plt.show()\n",
        "\n",
        "# plt.plot(x,y, 'r--', x4, y, 'g^')\n",
        "# plt.show()\n",
        "\n",
        "# plt.plot(x,y, 'r--', x1, y, 'bs', x2, y, 'gs', x3, y, 'b^', x4, y, 'g^')\n",
        "# plt.show()\n",
        "\n",
        "x_new=-4\n",
        "x_new_arr = []\n",
        "y_new_arr=[]\n",
        "# np.empty([1,20], dtype=float)\n",
        "for i in range(1,20):\n",
        "  x_new = x_new-0.01*(2*x_new-6)\n",
        "  y_new = (x_new-3)**2\n",
        "  x_new_arr.append(x_new)\n",
        "  y_new_arr.append(y_new)\n",
        "  # plt.plot(x_new,y_new)\n",
        "  print(x_new)\n",
        "\n",
        "plt.plot(x_new_arr,y_new_arr)\n",
        "plt.show()\n",
        "\n",
        "plt.plot(x,y, 'r--', x_new_arr, y_new_arr, 'bs')\n",
        "plt.show()"
      ],
      "metadata": {
        "id": "j4F-C90F9nv9",
        "outputId": "8dbd163b-1bf9-4fdd-c5db-b7ffb0b5a6e3",
        "colab": {
          "base_uri": "https://localhost:8080/",
          "height": 1000
        }
      },
      "execution_count": 23,
      "outputs": [
        {
          "output_type": "display_data",
          "data": {
            "image/png": "[encoded data removed]",
            "text/plain": [
              "<Figure size 432x288 with 1 Axes>"
            ]
          },
          "metadata": {
            "needs_background": "light"
          }
        },
        {
          "output_type": "stream",
          "name": "stdout",
          "text": [
            "-3.86\n",
            "-3.7228\n",
            "-3.5883439999999998\n",
            "-3.45657712\n",
            "-3.3274455776\n",
            "-3.200896666048\n",
            "-3.07687873272704\n",
            "-2.9553411580724993\n",
            "-2.8362343349110493\n",
            "-2.7195096482128283\n",
            "-2.6051194552485715\n",
            "-2.4930170661436\n",
            "-2.383156724820728\n",
            "-2.2754935903243134\n",
            "-2.1699837185178272\n",
            "-2.0665840441474708\n",
            "-1.9652523632645214\n",
            "-1.865947315999231\n",
            "-1.7686283696792464\n"
          ]
        },
        {
          "output_type": "display_data",
          "data": {
            "image/png": "[encoded data removed]",
            "text/plain": [
              "<Figure size 432x288 with 1 Axes>"
            ]
          },
          "metadata": {
            "needs_background": "light"
          }
        },
        {
          "output_type": "display_data",
          "data": {
            "image/png": "[encoded data removed]",
            "text/plain": [
              "<Figure size 432x288 with 1 Axes>"
            ]
          },
          "metadata": {
            "needs_background": "light"
          }
        }
      ]
    },
    {
      "cell_type": "code",
      "source": [
        ""
      ],
      "metadata": {
        "id": "3xACQpY_gY_i"
      },
      "execution_count": null,
      "outputs": []
    }
  ]
}