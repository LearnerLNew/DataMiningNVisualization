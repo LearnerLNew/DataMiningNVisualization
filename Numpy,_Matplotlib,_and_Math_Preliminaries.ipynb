{
  "nbformat": 4,
  "nbformat_minor": 0,
  "metadata": {
    "colab": {
      "name": "Numpy,_Matplotlib,_and_Math_Preliminaries.ipynb",
      "provenance": [],
      "collapsed_sections": [],
      "authorship_tag": "ABX9TyMfIvMtFzrpmd6AeJqatZ8w",
      "include_colab_link": true
    },
    "kernelspec": {
      "name": "python3",
      "display_name": "Python 3"
    },
    "language_info": {
      "name": "python"
    }
  },
  "cells": [
    {
      "cell_type": "markdown",
      "metadata": {
        "id": "view-in-github",
        "colab_type": "text"
      },
      "source": [
        "<a href=\"https://colab.research.google.com/github/LearnerLNew/DataMiningNVisualization/blob/main/Numpy%2C_Matplotlib%2C_and_Math_Preliminaries.ipynb\" target=\"_parent\"><img src=\"https://colab.research.google.com/assets/colab-badge.svg\" alt=\"Open In Colab\"/></a>"
      ]
    },
    {
      "cell_type": "markdown",
      "source": [
        "# Numpy, Matplotlib and Math preliminaries\n",
        "\n",
        "Numpy is a python library that provides data structures useful for data mining such as arrays, and various functions on those data structures. Follow [the official numpy tutorial](https://numpy.org/devdocs/user/quickstart.html) and familiarize yourself with numpy. Using only Numpy as an external library complete the following exercises."
      ],
      "metadata": {
        "id": "bI1snQh_-MS_"
      }
    },
    {
      "cell_type": "code",
      "execution_count": null,
      "metadata": {
        "id": "5Jz0VN617a8K"
      },
      "outputs": [],
      "source": [
        "import numpy as np"
      ]
    },
    {
      "cell_type": "markdown",
      "source": [
        "## Excercise 1\n",
        "Given $\\overline{X} = (1,2,3,4,5,6,7,8,9,10)^T$ and $\\overline{Y} = (10,9,8,7,6,5,4,3,2,1)^T$ find\n",
        "\n",
        "1. $\\overline{X} + \\overline{Y}$\n",
        "2. $\\overline{X}^T \\overline{Y}$\n",
        "2. $\\overline{X}\\overline{Y}^T$"
      ],
      "metadata": {
        "id": "918Vyvqk8K0t"
      }
    },
    {
      "cell_type": "code",
      "source": [
        "x = np.array([1,2,3,4,5,6,7,8,9,10])\n",
        "x = np.transpose(x)\n",
        "y = np.array([10,9,8,7,6,5,4,3,2,1])\n",
        "y = np.transpose(y)\n",
        "\n",
        "#1. x+y\n",
        "addn = x+y\n",
        "print(addn)\n",
        "\n",
        "#2. x_transpose.y\n",
        "x_transpose = np.transpose(x)\n",
        "innerProduct = x_transpose.dot(y)\n",
        "print(innerProduct)\n",
        "\n",
        "#3. x.y_transpose\n",
        "y_transpose = np.transpose(y)\n",
        "outerProduct = x @ y_transpose\n",
        "print(outerProduct)"
      ],
      "metadata": {
        "id": "snvnldvW8m5m"
      },
      "execution_count": null,
      "outputs": []
    },
    {
      "cell_type": "markdown",
      "source": [
        "---\n",
        "## Excercise 2\n",
        "Given two matrices \n",
        "$\\overline{A} = \\begin{pmatrix}1 & 2 & 3 & 4 & 5\\\\ 6 & 7 & 8 & 9 & 10\\\\ 11 & 12 & 13 & 14 & 15\\\\ 16 & 17 & 18 & 19 & 20\\\\ 21 & 22 & 23 & 24 & 25 \\end{pmatrix}$\n",
        "and \n",
        "$\\overline{B} = \\begin{pmatrix}0 & 1 & 0 & 1 & 0\\\\ 1 & 2 & 3 & 4 & 5\\\\ -1 & 0 & 1 & 0 & -1 \\\\ 5 & 4 & 3 & 2 & 5\\\\ -1 & 0 & 1 & 0 & -1 \\end{pmatrix}$\n",
        "\n",
        "1. Compute $\\overline{A} + \\overline{B}$\n",
        "2. Compute $\\overline{B} + \\overline{A}$. Is it equal to $\\overline{A} + \\overline{B}$? Is it always the case?\n",
        "3. Compute $\\overline{A} \\cdot \\overline{B}$\n",
        "4. Compute $\\overline{B} \\cdot \\overline{A}$. Is it equal to $\\overline{A} \\cdot \\overline{B}$?"
      ],
      "metadata": {
        "id": "8VDStth68uf8"
      }
    },
    {
      "cell_type": "code",
      "source": [
        "a = np.arange(1,26,1).reshape(5,5)\n",
        "b = np.array([[0,1,0,1,0], [1,2,3,4,5], [-1,0,1,0,-1],[5,4,3,2,1],[-1,0,1,0,-1]])\n",
        "\n",
        "#1. a+b\n",
        "addn = a+b\n",
        "print(addn)\n",
        "\n",
        "#2. b+a\n",
        "addn1 = b+a\n",
        "print(addn1)\n",
        "\n",
        "#2.1 Is a+b == b+a\n",
        "print(addn == addn1)\n",
        "\n",
        "#3. a.b\n",
        "abDot = a.dot(b)\n",
        "print(abDot)\n",
        "\n",
        "#4. b.a\n",
        "baDot = b.dot(a)\n",
        "print(baDot)\n",
        "\n",
        "#4.1 Is a.b == b.a\n",
        "print(abDot == baDot)"
      ],
      "metadata": {
        "id": "UTS5uuuU80r6"
      },
      "execution_count": null,
      "outputs": []
    },
    {
      "cell_type": "markdown",
      "source": [
        "---\n",
        "## Excercise 3\n",
        "Compute the inverse of the following matrix\n",
        "$\\overline{A} = \\begin{pmatrix} 1 & 2 & 4\\\\ -2 & 1 & 5 \\\\1 & 2 & 3 \\end{pmatrix}$, if one exsits. Verify that the matrix product of $\\overline{A}$ and its inverse is the 3x3 identity matrix."
      ],
      "metadata": {
        "id": "TJbkh0AP89SD"
      }
    },
    {
      "cell_type": "code",
      "source": [
        "a = np.array([[1,2,4],[-2,1,5],[1,2,3]])\n",
        "ainv = np.linalg.inv(a)\n",
        "\n",
        "print(ainv)\n",
        "\n",
        "aainv = a @ ainv\n",
        "print(aainv)\n",
        "\n",
        "aainvDot = a.dot(ainv)\n",
        "print(aainvDot)"
      ],
      "metadata": {
        "colab": {
          "base_uri": "https://localhost:8080/",
          "height": 235
        },
        "id": "qvb_7szs9FND",
        "outputId": "f8e58654-a469-4624-a242-a25eaa2404d7"
      },
      "execution_count": 1,
      "outputs": [
        {
          "output_type": "error",
          "ename": "NameError",
          "evalue": "ignored",
          "traceback": [
            "\u001b[0;31m---------------------------------------------------------------------------\u001b[0m",
            "\u001b[0;31mNameError\u001b[0m                                 Traceback (most recent call last)",
            "\u001b[0;32m<ipython-input-1-6aca2b56fa4a>\u001b[0m in \u001b[0;36m<module>\u001b[0;34m()\u001b[0m\n\u001b[0;32m----> 1\u001b[0;31m \u001b[0ma\u001b[0m \u001b[0;34m=\u001b[0m \u001b[0mnp\u001b[0m\u001b[0;34m.\u001b[0m\u001b[0marray\u001b[0m\u001b[0;34m(\u001b[0m\u001b[0;34m[\u001b[0m\u001b[0;34m[\u001b[0m\u001b[0;36m1\u001b[0m\u001b[0;34m,\u001b[0m\u001b[0;36m2\u001b[0m\u001b[0;34m,\u001b[0m\u001b[0;36m4\u001b[0m\u001b[0;34m]\u001b[0m\u001b[0;34m,\u001b[0m\u001b[0;34m[\u001b[0m\u001b[0;34m-\u001b[0m\u001b[0;36m2\u001b[0m\u001b[0;34m,\u001b[0m\u001b[0;36m1\u001b[0m\u001b[0;34m,\u001b[0m\u001b[0;36m5\u001b[0m\u001b[0;34m]\u001b[0m\u001b[0;34m,\u001b[0m\u001b[0;34m[\u001b[0m\u001b[0;36m1\u001b[0m\u001b[0;34m,\u001b[0m\u001b[0;36m2\u001b[0m\u001b[0;34m,\u001b[0m\u001b[0;36m3\u001b[0m\u001b[0;34m]\u001b[0m\u001b[0;34m]\u001b[0m\u001b[0;34m)\u001b[0m\u001b[0;34m\u001b[0m\u001b[0;34m\u001b[0m\u001b[0m\n\u001b[0m\u001b[1;32m      2\u001b[0m \u001b[0mainv\u001b[0m \u001b[0;34m=\u001b[0m \u001b[0mnp\u001b[0m\u001b[0;34m.\u001b[0m\u001b[0mlinalg\u001b[0m\u001b[0;34m.\u001b[0m\u001b[0minv\u001b[0m\u001b[0;34m(\u001b[0m\u001b[0ma\u001b[0m\u001b[0;34m)\u001b[0m\u001b[0;34m\u001b[0m\u001b[0;34m\u001b[0m\u001b[0m\n\u001b[1;32m      3\u001b[0m \u001b[0;34m\u001b[0m\u001b[0m\n\u001b[1;32m      4\u001b[0m \u001b[0mprint\u001b[0m\u001b[0;34m(\u001b[0m\u001b[0mainv\u001b[0m\u001b[0;34m)\u001b[0m\u001b[0;34m\u001b[0m\u001b[0;34m\u001b[0m\u001b[0m\n\u001b[1;32m      5\u001b[0m \u001b[0;34m\u001b[0m\u001b[0m\n",
            "\u001b[0;31mNameError\u001b[0m: name 'np' is not defined"
          ]
        }
      ]
    },
    {
      "cell_type": "markdown",
      "source": [
        "---\n",
        "## Excercise 4\n",
        "Find the ranks of the following matrices\n",
        "$\\overline{A} = \\left(\\begin{matrix} 1 & 0 & 1 \\\\ 0 & 1 & 1\\\\ 0 & 0 & 0\\end{matrix}\\right)~$ and\n",
        "$~\\overline{B} = \\left(\\begin{matrix} 1 & 2 & 1 \\\\-2 & -3 & 1\\\\ 3 & 5 & 0\\end{matrix}\\right)$."
      ],
      "metadata": {
        "id": "oXXosKK59Lb3"
      }
    },
    {
      "cell_type": "code",
      "source": [
        "a = np.array([[1,0,1],[0,1,1],[0,0,0]])\n",
        "b = np.array([[1,2,1],[-2,-3,1],[3,5,0]])\n",
        "\n",
        "arank = np.linalg.matrix_rank(a)\n",
        "print(arank)\n",
        "\n",
        "brank = np.linalg.matrix_rank(b)\n",
        "print(brank)"
      ],
      "metadata": {
        "id": "nr6gno749R1M"
      },
      "execution_count": null,
      "outputs": []
    },
    {
      "cell_type": "markdown",
      "source": [
        "---\n",
        "## Excercise 5\n",
        "Find the eigenvalues of matrix\n",
        " $\\overline{A} = \\left(\\begin{matrix} 4 & 2\\\\ 1 & 3\\end{matrix}\\right)$"
      ],
      "metadata": {
        "id": "v3n4k3TE9Xwu"
      }
    },
    {
      "cell_type": "code",
      "source": [
        "a = np.array([[4,2],[1,3]])\n",
        "\n",
        "eigenVector, eigenValue = np.linalg.eig(a)\n",
        "print(eigenVector)\n",
        "print(eigenValue)\n",
        "\n",
        "eigVals = np.linalg.eigvals(a)\n",
        "print(eigVals)"
      ],
      "metadata": {
        "id": "qw3e1Wo_9c75"
      },
      "execution_count": null,
      "outputs": []
    },
    {
      "cell_type": "markdown",
      "source": [
        "---\n",
        "## Excercise 6\n",
        " \n",
        "For this excercise we will need [Matplotlib](https://matplotlib.org/index.html). Follow [the official Matplotlib tutorial](https://matplotlib.org/tutorials/introductory/pyplot.html#) and familiarize yourself with Matplotlib.\n",
        "\n",
        "Recall from the lecture the Gradient Descent method for finding local minimum of a function:\n",
        "\n",
        "1. Pick an initial point $\\overline{X}_0$\n",
        "2. Iterate according to $\\overline{X}_{i+1} = \\overline{X}_i - \\gamma \\cdot \\big((\\nabla_{\\overline{X}} f)(\\overline{X}_i) \\big)$\n",
        "\n",
        "\n",
        "Examine this method by trying to find the minimum of the function $f(x) = (x-3)^2$. More specifically, for every $\\gamma \\in \\{0.01, 0.1, 0.9, 1, 2\\}$:\n",
        "1. Plot the graph of $f(x) = (x-3)^2$\n",
        "2. Pick an intial point $x = -4$\n",
        "3. Run 20 interations of the methods \n",
        "4. In every iteration $i = 1, \\ldots, 20$, plot the point $(x_i, f(x_i))$ on the same plot as the graph of the function $f(x)$\n",
        "\n",
        "Interpret the results."
      ],
      "metadata": {
        "id": "8q7gXy029hmj"
      }
    },
    {
      "cell_type": "code",
      "source": [
        "import matplotlib.pyplot as plt\n",
        "x = np.arange(-4, 17)\n",
        "y = (x-3)**2\n",
        "\n",
        "dydx = 2*x - 6\n",
        "x1 = x-0.01*dydx\n",
        "x2 = x-0.1*dydx\n",
        "x3 = x-0.9*dydx\n",
        "x4 = x-1.2*dydx\n",
        "\n",
        "plt.plot(x,y)\n",
        "plt.show()\n",
        "\n",
        "plt.plot(x,y, 'r--', x1, y, 'bs')\n",
        "plt.show()\n",
        "\n",
        "plt.plot(x,y, 'r--', x2, y, 'gs')\n",
        "plt.show()\n",
        "\n",
        "plt.plot(x,y, 'r--', x3, y, 'b^')\n",
        "plt.show()\n",
        "\n",
        "plt.plot(x,y, 'r--', x4, y, 'g^')\n",
        "plt.show()\n",
        "\n",
        "plt.plot(x,y, 'r--', x1, y, 'bs', x2, y, 'gs', x3, y, 'b^', x4, y, 'g^')\n",
        "plt.show()"
      ],
      "metadata": {
        "id": "j4F-C90F9nv9"
      },
      "execution_count": null,
      "outputs": []
    }
  ]
}